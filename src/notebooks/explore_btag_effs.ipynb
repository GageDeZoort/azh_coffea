{
 "cells": [
  {
   "cell_type": "code",
   "execution_count": null,
   "id": "8e567dca",
   "metadata": {},
   "outputs": [],
   "source": [
    "import os\n",
    "import sys\n",
    "sys.path.append('../../')\n",
    "import yaml\n",
    "import uproot\n",
    "import numpy as np\n",
    "from matplotlib import pyplot as plt\n",
    "import seaborn as sns\n",
    "import mplhep \n",
    "mplhep.style.use('CMS')\n",
    "from coffea.nanoevents import NanoEventsFactory, BaseSchema, NanoAODSchema\n",
    "from coffea import util\n",
    "from btag_eff_processor import bTagEffProcessor\n",
    "from btag_utils import *\n",
    "from utils.sample_utils import *"
   ]
  },
  {
   "cell_type": "code",
   "execution_count": null,
   "id": "151e0573",
   "metadata": {},
   "outputs": [],
   "source": [
    "fileset = get_fileset(os.path.join('../../sample_lists/sample_yamls', \"MC_UL_2018.yaml\"))#,\n",
    "fileset = {k: v for k, v in fileset.items()}"
   ]
  },
  {
   "cell_type": "code",
   "execution_count": null,
   "id": "1ce44b8a",
   "metadata": {},
   "outputs": [],
   "source": [
    "proc_instance = bTagEffProcessor()\n",
    "    \n",
    "out = processor.run_uproot_job(\n",
    "        fileset,\n",
    "        treename=\"Events\",\n",
    "        processor_instance=proc_instance,\n",
    "        executor=processor.futures_executor,\n",
    "        executor_args={\"schema\": NanoAODSchema, 'workers': 2},\n",
    ")"
   ]
  },
  {
   "cell_type": "code",
   "execution_count": null,
   "id": "107726d6",
   "metadata": {},
   "outputs": [],
   "source": [
    "out.keys()"
   ]
  },
  {
   "cell_type": "code",
   "execution_count": null,
   "id": "3674b999",
   "metadata": {},
   "outputs": [],
   "source": [
    "mc = out['TTToSemiLeptonic_2018']\n",
    "nbjets = mc['nbjets'].value\n",
    "nbtags = mc['nbtags'].value\n",
    "pt_bins = mc['pt_bins'].value\n",
    "eta_bins = mc['eta_bins'].value"
   ]
  },
  {
   "cell_type": "code",
   "execution_count": null,
   "id": "86f70875",
   "metadata": {},
   "outputs": [],
   "source": [
    "unique_pt_bins = np.unique(mc['pt_bins'].value)\n",
    "unique_eta_bins = np.unique(mc['eta_bins'].value)\n",
    "for pt_bin in unique_pt_bins:\n",
    "    for eta_bin in unique_eta_bins:\n",
    "        in_bin = ((pt_bins==pt_bin) & (eta_bins==eta_bin))\n",
    "        num = sum(nbtags[in_bin])\n",
    "        denom = sum(nbjets[in_bin])\n",
    "        eff = num/denom if denom!=0 else 0\n",
    "        print(pt_bin, eta_bin, eff)"
   ]
  },
  {
   "cell_type": "code",
   "execution_count": null,
   "id": "8f85965a",
   "metadata": {},
   "outputs": [],
   "source": [
    "out = util.load('UL_2018/MC_UL_2018_btag_effs.coffea')\n",
    "out"
   ]
  },
  {
   "cell_type": "code",
   "execution_count": null,
   "id": "8396c0c7",
   "metadata": {},
   "outputs": [],
   "source": [
    "pt_bins = out['TTToSemiLeptonic_2018']['pt_bins'].value\n",
    "unique_pt_bins = np.unique(pt_bins)\n",
    "eta_bins = out['TTToSemiLeptonic_2018']['eta_bins'].value\n",
    "unique_eta_bins = np.unique(eta_bins)\n",
    "print(unique_pt_bins)\n",
    "print(unique_eta_bins)"
   ]
  },
  {
   "cell_type": "code",
   "execution_count": null,
   "id": "0c57caf8",
   "metadata": {},
   "outputs": [],
   "source": [
    "tables = {}\n",
    "for sample in out.keys():\n",
    "    data = out[sample]\n",
    "    pt_bins = data['pt_bins'].value\n",
    "    eta_bins = data['eta_bins'].value\n",
    "    nbjets = data['nbjets'].value\n",
    "    nbtags = data['nbtags'].value\n",
    "    table = {}\n",
    "    for i, pt_bin in enumerate(unique_pt_bins):\n",
    "        for j, eta_bin in enumerate(unique_eta_bins):\n",
    "            in_bin = ((pt_bins==pt_bin) & (eta_bins==eta_bin))\n",
    "            num = sum(nbtags[in_bin])\n",
    "            denom = sum(nbjets[in_bin])\n",
    "            eff = num/denom if denom!=0 else 0\n",
    "            table[(i,j)] = eff\n",
    "    for j, eta_bin in enumerate(unique_eta_bins):\n",
    "        mpt = len(unique_pt_bins)\n",
    "        table[(mpt, j)] = table[(mpt-1,j)]\n",
    "    for i , pt_bin in enumerate(unique_pt_bins):\n",
    "        meta = len(unique_eta_bins)\n",
    "        table[(meta, j)] = table[(meta-1,j)]\n",
    "        \n",
    "    tables[sample] = table"
   ]
  },
  {
   "cell_type": "code",
   "execution_count": null,
   "id": "4d2fb4b1",
   "metadata": {},
   "outputs": [],
   "source": [
    "import pandas as pd\n",
    "sample = 'TTToSemiLeptonic_2018'\n",
    "ttbar_lookup = tables[sample]\n",
    "pt_test = [0, 59,29, 250, 2]\n",
    "p = np.digitize(pt_test, bins=unique_pt_bins)\n",
    "eta_test = [2, 0.4, 0, 0.9]\n",
    "e = np.digitize(eta_test, bins=unique_eta_bins)\n",
    "pe = list(zip(p, e))\n",
    "weights = [ttbar_lookup[t] for t in pe]\n",
    "weights"
   ]
  },
  {
   "cell_type": "code",
   "execution_count": null,
   "id": "b703ddbd",
   "metadata": {},
   "outputs": [],
   "source": [
    "table, pt_bins, eta_bins = get_btag_tables('.', '2018', True)\n",
    "get_btag_effs(table, pt_bins, eta_bins, 'TTToSemiLeptonic_2018', pt_test, eta_test)"
   ]
  },
  {
   "cell_type": "code",
   "execution_count": null,
   "id": "2cdd70eb",
   "metadata": {},
   "outputs": [],
   "source": [
    "import awkward as ak\n",
    "import correctionlib\n",
    "base = '/eos/uscms/store/group/lpcsusyhiggs/ntuples/AZh/nAODv9/2018/DY4JetsToLLM-50'\n",
    "file = join(base, 'all_DY4JetsToLLM-50_file001_part_1of3_Electrons.root')\n",
    "events = NanoEventsFactory.from_root(file, schemaclass=NanoAODSchema).events()\n",
    "jet = events.Jet\n",
    "\n",
    "def get_baseline_jets(jet, cutflow, year='2018'):\n",
    "    obj = 'baseline_jets'\n",
    "    baseline_j = jet[(jet.pt > 20)]\n",
    "    eta_per_year = {'2018': 2.5, '2017': 2.5,\n",
    "                    '2016postVFP': 2.4, '2016preVFP': 2.4}\n",
    "    baseline_j = baseline_j[(np.abs(baseline_j.eta) < eta_per_year[year])]\n",
    "    baseline_j = baseline_j[(baseline_j.jetId > 0)]\n",
    "    return baseline_j\n",
    "\n",
    "def is_baseline_bjet(baseline_j, cutflow, year='2018'):\n",
    "    obj = 'baseline bjets'\n",
    "    delta = {'2016preVFP': 0.2598, '2016postVFP': 0.2598,\n",
    "             '2017': 0.3040, '2018': 0.2783}\n",
    "    return baseline_j.btagDeepFlavB > delta[year]\n",
    "\n",
    "jets = get_baseline_jets(jet, None, '2018')\n",
    "\n",
    "def get_btag_weights(infile):\n",
    "    return correctionlib.CorrectionSet.from_file(infile)\n",
    "\n",
    "infile = 'UL_2018/btagging.json.gz'\n",
    "SF_tool = get_btag_weights(infile)\n",
    "for c in SF_tool.keys(): print(c)\n",
    "\n",
    "btag_SFs = SF_tool['deepJet_comb']\n",
    "systematic = 'central'\n",
    "working_point = 'M'\n",
    "jets = jets[abs(jets.partonFlavour)==5]\n",
    "flat_j, num_j = ak.flatten(jets), ak.num(jets)\n",
    "pt, eta = flat_j.pt, flat_j.eta\n",
    "is_tagged = ak.flatten(is_baseline_bjet(jets, None, '2018'))\n",
    "SFs = corr.evaluate(systematic, working_point, 5, \n",
    "                    abs(ak.to_numpy(eta)), ak.to_numpy(pt))\n",
    "btag = np.array(get_btag_effs(table, pt_bins, eta_bins, sample, pt, abs(eta)))\n",
    "w_is_tagged = btag * is_tagged\n",
    "w_not_tagged = (1-btag) * ~is_tagged\n",
    "w = w_is_tagged + w_not_tagged\n",
    "w_MC = w\n",
    "w_is_tagged = btag * is_tagged * SFs\n",
    "w_is_not_tagged = (1-btag*SFs) * ~is_tagged\n",
    "w = w_is_tagged + w_is_not_tagged\n",
    "w = w/w_MC\n",
    "ak.prod(ak.unflatten(w, num_j), axis=1)"
   ]
  },
  {
   "cell_type": "code",
   "execution_count": null,
   "id": "43acc888",
   "metadata": {},
   "outputs": [],
   "source": [
    "btag_eff_tables, btag_pt_bins, btag_eta_bins = get_btag_tables('.', '2018', True)\n",
    "get_btag_effs(table, pt_bins, eta_bins, 'TTToSemiLeptonic_2018', pt_test, eta_test)\n",
    "\n",
    "def apply_btag_corrections(jets, dataset, systematic):\n",
    "    jets = jets[abs(jets.partonFlavour)==5]\n",
    "    flat_j, num_j = ak.flatten(jets), ak.num(jets)\n",
    "    pt, eta = flat_j.pt, flat_j.eta\n",
    "    delta = {'2016preVFP': 0.2598, '2016postVFP': 0.2598,\n",
    "             '2017': 0.3040, '2018': 0.2783}\n",
    "    year = dataset.split('_')[-1]\n",
    "    is_tagged = (flat_j.btagDeepFlavB > delta[year])\n",
    "    SFs = btag_SFs.evaluate(systematic, 'M', 5,\n",
    "                                 abs(ak.to_numpy(eta)), ak.to_numpy(pt))\n",
    "    btag_effs = np.array(get_btag_effs(btag_eff_tables,\n",
    "                                       btag_pt_bins,\n",
    "                                       btag_eta_bins,\n",
    "                                       dataset, pt, abs(eta)))\n",
    "    w_is_tagged = is_tagged * btag_effs\n",
    "    w_not_tagged = (1-btag_effs) * ~is_tagged\n",
    "    w_MC = w_is_tagged + w_not_tagged\n",
    "    w_is_tagged = btag * is_tagged * SFs\n",
    "    w_is_not_tagged = (1-btag*SFs) * ~is_tagged\n",
    "    w = (w_is_tagged + w_is_not_tagged)/w_MC\n",
    "    return ak.prod(ak.unflatten(w, num_j), axis=1)\n",
    "\n",
    "apply_btag_corrections(jets, sample, 'central')\n"
   ]
  }
 ],
 "metadata": {
  "kernelspec": {
   "display_name": "Python 3",
   "language": "python",
   "name": "python3"
  },
  "language_info": {
   "codemirror_mode": {
    "name": "ipython",
    "version": 3
   },
   "file_extension": ".py",
   "mimetype": "text/x-python",
   "name": "python",
   "nbconvert_exporter": "python",
   "pygments_lexer": "ipython3",
   "version": "3.8.12"
  }
 },
 "nbformat": 4,
 "nbformat_minor": 5
}
