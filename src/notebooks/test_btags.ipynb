{
 "cells": [
  {
   "cell_type": "code",
   "execution_count": null,
   "id": "610f16da",
   "metadata": {},
   "outputs": [],
   "source": [
    "%load_ext autoreload\n",
    "%autoreload 2\n",
    "\n",
    "import awkward as ak\n",
    "import numpy as np\n",
    "import argparse\n",
    "import logging\n",
    "import time\n",
    "from os.path import join\n",
    "import sys\n",
    "from hist.intervals import ratio_uncertainty\n",
    "sys.path.append('../')\n",
    "import warnings\n",
    "warnings.filterwarnings(\"ignore\")\n",
    "\n",
    "from coffea import processor, util\n",
    "from coffea.nanoevents import NanoEventsFactory, NanoAODSchema\n",
    "\n",
    "from azh_analysis.utils.btag import get_btag_effs\n",
    "from azh_analysis.selections.preselections import (\n",
    "    get_baseline_jets,\n",
    "    get_baseline_bjets\n",
    ")"
   ]
  },
  {
   "cell_type": "code",
   "execution_count": null,
   "id": "6f7f6bc5",
   "metadata": {},
   "outputs": [],
   "source": [
    "\n",
    "from azh_analysis.utils.btag import get_btag_SFs, get_btag_tables\n",
    "\n",
    "year = \"2017\"\n",
    "base = f'/eos/uscms/store/group/lpcsusyhiggs/ntuples/AZh/nAODv9/{year}/DY4JetsToLLM-50'\n",
    "file = join(base, 'all_DY4JetsToLLM-50_file001_part_1of3_Electrons.root')\n",
    "events = NanoEventsFactory.from_root(file, schemaclass=NanoAODSchema).events()\n",
    "baseline_j = get_baseline_jets(events.Jet)\n",
    "baseline_b = get_baseline_bjets(baseline_j)\n",
    "b_counts = ak.num(baseline_b)\n"
   ]
  },
  {
   "cell_type": "code",
   "execution_count": null,
   "id": "cff3b7ae",
   "metadata": {},
   "outputs": [],
   "source": [
    "\n",
    "from azh_analysis.utils.corrections import (\n",
    "    apply_btag_corrections,\n",
    ")\n",
    "\n",
    "btag_root = \"../corrections/btag/\"\n",
    "btag_tables = get_btag_tables(btag_root, f\"{year}\", UL=True)\n",
    "btag_SFs = get_btag_SFs(btag_root, f\"{year}\", UL=True)\n",
    "\n",
    "bshift_weight = apply_btag_corrections(\n",
    "    baseline_j,\n",
    "    btag_SFs,\n",
    "    btag_tables[0],\n",
    "    btag_tables[1],\n",
    "    btag_tables[2],\n",
    "    dataset=f\"DY4JetsToLLM-50_{year}\",\n",
    "    shift=\"central\",\n",
    ")\n",
    "\n",
    "print(bshift_weights)"
   ]
  },
  {
   "cell_type": "code",
   "execution_count": null,
   "id": "fd88a056",
   "metadata": {},
   "outputs": [],
   "source": []
  },
  {
   "cell_type": "code",
   "execution_count": null,
   "id": "2b7b5b7a",
   "metadata": {},
   "outputs": [],
   "source": []
  }
 ],
 "metadata": {
  "kernelspec": {
   "display_name": "Python 3",
   "language": "python",
   "name": "python3"
  },
  "language_info": {
   "codemirror_mode": {
    "name": "ipython",
    "version": 3
   },
   "file_extension": ".py",
   "mimetype": "text/x-python",
   "name": "python",
   "nbconvert_exporter": "python",
   "pygments_lexer": "ipython3",
   "version": "3.8.16"
  }
 },
 "nbformat": 4,
 "nbformat_minor": 5
}
