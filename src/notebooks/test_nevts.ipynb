{
 "cells": [
  {
   "cell_type": "code",
   "execution_count": null,
   "id": "2ba28c6a",
   "metadata": {},
   "outputs": [],
   "source": [
    "%load_ext autoreload\n",
    "%autoreload 2\n",
    "import sys\n",
    "sys.path.append('../')\n",
    "from os.path import join\n",
    "from azh_analysis.utils.sample import get_fileset, get_nevts_dict"
   ]
  },
  {
   "cell_type": "code",
   "execution_count": null,
   "id": "2349697b",
   "metadata": {},
   "outputs": [],
   "source": [
    "source, year = \"MC_UL\", \"2016preVFP\"\n",
    "fileset = get_fileset(f\"../samples/filesets/{source}_{year}.yaml\")\n",
    "nevts_dict = get_nevts_dict(fileset, year)\n",
    "print(\"fileset keys\", fileset.keys())\n",
    "#if (\"DYJetsToLLM-50\" in fileset.keys()):\n",
    "#dyjets_weights = dyjets_stitch_weights(sample_info, nevts_dict, year)"
   ]
  },
  {
   "cell_type": "code",
   "execution_count": null,
   "id": "a8ad68db",
   "metadata": {},
   "outputs": [],
   "source": []
  }
 ],
 "metadata": {
  "kernelspec": {
   "display_name": "Python 3",
   "language": "python",
   "name": "python3"
  },
  "language_info": {
   "codemirror_mode": {
    "name": "ipython",
    "version": 3
   },
   "file_extension": ".py",
   "mimetype": "text/x-python",
   "name": "python",
   "nbconvert_exporter": "python",
   "pygments_lexer": "ipython3",
   "version": "3.8.16"
  }
 },
 "nbformat": 4,
 "nbformat_minor": 5
}
